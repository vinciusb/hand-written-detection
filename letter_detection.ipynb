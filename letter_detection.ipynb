{
 "cells": [
  {
   "attachments": {},
   "cell_type": "markdown",
   "metadata": {},
   "source": [
    "# Letter Detection\n",
    "Letter detection model based in the [hand written data set](https://www.kaggle.com/datasets/sachinpatel21/az-handwritten-alphabets-in-csv-format)."
   ]
  },
  {
   "attachments": {},
   "cell_type": "markdown",
   "metadata": {},
   "source": [
    "## Data Instatiation"
   ]
  },
  {
   "cell_type": "code",
   "execution_count": 1,
   "metadata": {},
   "outputs": [],
   "source": [
    "from tensorflow import keras\n",
    "from keras import layers\n",
    "from sklearn.model_selection import train_test_split\n",
    "import pandas as pd\n",
    "from matplotlib import pyplot as plt\n",
    "import os"
   ]
  },
  {
   "cell_type": "code",
   "execution_count": 2,
   "metadata": {},
   "outputs": [],
   "source": [
    "# df = pd.read_csv('./data/A_Z_original.csv');\n",
    "# df.sample(frac=0.1).to_csv('./data/A_Z_0.1.csv', index=False);\n",
    "df = pd.read_csv('./data/A_Z_0.1.csv', index_col=False);"
   ]
  },
  {
   "cell_type": "code",
   "execution_count": 3,
   "metadata": {},
   "outputs": [
    {
     "data": {
      "image/png": "[encoded data removed]",
      "text/plain": [
       "<Figure size 432x288 with 7 Axes>"
      ]
     },
     "metadata": {},
     "output_type": "display_data"
    }
   ],
   "source": [
    "import numpy as np\n",
    "import random\n",
    "import math\n",
    "\n",
    "IMAGE_SIZE= 28*28;\n",
    "\n",
    "def plotImg(array, letter):\n",
    "    matrix = np.array(array)[0][1:]\n",
    "    matrix = matrix.reshape((28,28))\n",
    "    \n",
    "    plt.title(letter.upper())\n",
    "    plt.xticks([])\n",
    "    plt.yticks([])\n",
    "    plt.imshow(matrix, cmap=plt.get_cmap('gray'))\n",
    "    \n",
    "def plotSingleImg(array, letter):\n",
    "    fig = plt.figure()\n",
    "    fig.patch.set_facecolor('xkcd:white')\n",
    "    plotImg(array, letter)\n",
    "    plt.show();\n",
    "    \n",
    "def plotRandonLetters(df, n):\n",
    "    letters = [0 for i in range(26)]\n",
    "    fig = plt.figure()\n",
    "    fig.patch.set_facecolor('xkcd:white')\n",
    "    rows = math.ceil(n ** (1/2))\n",
    "    cols = rows\n",
    "    \n",
    "    for i in range(n):\n",
    "        while True:\n",
    "            sample = df.sample(1)\n",
    "            if letters[sample.iloc[0][0]] == 0:\n",
    "                letters[sample.iloc[0][0]] = 1\n",
    "                fig.add_subplot(rows, cols, i + 1)\n",
    "                \n",
    "                plotImg(sample, chr(sample.iloc[0][0] + ord('a')))\n",
    "                break;\n",
    "\n",
    "    plt.show();\n",
    "\n",
    "plotRandonLetters(df, 7)"
   ]
  },
  {
   "cell_type": "code",
   "execution_count": 4,
   "metadata": {},
   "outputs": [],
   "source": [
    "X = df.iloc[:,1:]\n",
    "y = df.iloc[:,0]\n",
    "y = keras.utils.to_categorical(y)\n",
    "X_train, X_test, y_train, y_test = train_test_split(X, y, stratify=y, test_size=0.3)"
   ]
  },
  {
   "attachments": {},
   "cell_type": "markdown",
   "metadata": {},
   "source": [
    "## Model Creation"
   ]
  },
  {
   "cell_type": "code",
   "execution_count": 5,
   "metadata": {},
   "outputs": [],
   "source": [
    "MODEL_NAME = '256_256_64__1'\n",
    "MODEL_DIR = './Models/{}'.format(MODEL_NAME)\n",
    "MODEL_PATH = '{}/{}'.format(MODEL_DIR, MODEL_NAME)\n",
    "if not os.path.exists(MODEL_DIR):\n",
    "    os.makedirs(MODEL_DIR)\n",
    "    \n",
    "model = keras.Sequential([\n",
    "    # L1\n",
    "    layers.Dense(units=256, input_shape=[IMAGE_SIZE]),\n",
    "    # L2\n",
    "    layers.Dense(units=128, activation='relu'),\n",
    "    layers.BatchNormalization(),\n",
    "    layers.Dropout(0.3),\n",
    "    # L3\n",
    "    layers.Dense(units=64, activation='relu'),\n",
    "    layers.BatchNormalization(),\n",
    "    layers.Dropout(0.2),\n",
    "    # L4\n",
    "    layers.Dense(units=26, activation='softmax'),\n",
    "])\n",
    "\n",
    "model.compile(optimizer='adam', loss='categorical_crossentropy', metrics=['accuracy'])\n",
    "# Callbacks\n",
    "early_stopping = keras.callbacks.EarlyStopping(patience=20, \n",
    "                                               min_delta=0.001, \n",
    "                                               restore_best_weights=True)\n",
    "checkpoint = keras.callbacks.ModelCheckpoint(filepath='{}.ckpt'.format(MODEL_PATH),\n",
    "                                             save_weights_only=True,\n",
    "                                             verbose=0)"
   ]
  },
  {
   "attachments": {},
   "cell_type": "markdown",
   "metadata": {},
   "source": [
    "## Evaluate model"
   ]
  },
  {
   "cell_type": "code",
   "execution_count": 6,
   "metadata": {},
   "outputs": [
    {
     "name": "stdout",
     "output_type": "stream",
     "text": [
      "Train: 0.980, Test: 0.980\n"
     ]
    }
   ],
   "source": [
    "model.load_weights('{}.ckpt'.format(MODEL_PATH))\n",
    "\n",
    "# evaluate the model\n",
    "_, train_acc = model.evaluate(X_train, y_train, verbose=0)\n",
    "_, test_acc = model.evaluate(X_test, y_test, verbose=0)\n",
    "print('Train: %.3f, Test: %.3f' % (train_acc, test_acc))"
   ]
  },
  {
   "cell_type": "code",
   "execution_count": 9,
   "metadata": {},
   "outputs": [
    {
     "data": {
      "image/png": "[encoded data removed]",
      "text/plain": [
       "<Figure size 432x288 with 1 Axes>"
      ]
     },
     "metadata": {},
     "output_type": "display_data"
    },
    {
     "name": "stdout",
     "output_type": "stream",
     "text": [
      "Predicted L and the original is B\n"
     ]
    }
   ],
   "source": [
    "from PIL import Image\n",
    "IMAGE_NAME = 'b_1'\n",
    "\n",
    "def convert_image_to_array(imageName):\n",
    "    letter = imageName[0]\n",
    "    image = Image.open('./images/{}.png'.format(imageName))\n",
    "    data = np.asarray(image.convert('L'))\n",
    "    image.close()\n",
    "    data = np.array([np.insert(data, 0, ord(letter) - ord('a'))])\n",
    "    return data\n",
    "\n",
    "def predict_image(imageName):\n",
    "    img_array = convert_image_to_array(imageName)\n",
    "    plotSingleImg(img_array, imageName[0])\n",
    "    \n",
    "    original_letter = img_array[0][0]\n",
    "    hot_encoded = model.predict(np.array([img_array[0][1:]]), verbose=0)\n",
    "    print(\"Predicted {} and the original is {}\".format(chr(np.argmax(hot_encoded, axis=1)[0] + ord('a')).upper(), imageName[0].upper()))\n",
    "\n",
    "predict_image(IMAGE_NAME)"
   ]
  },
  {
   "attachments": {},
   "cell_type": "markdown",
   "metadata": {},
   "source": [
    "## Train Model"
   ]
  },
  {
   "cell_type": "code",
   "execution_count": null,
   "metadata": {},
   "outputs": [],
   "source": [
    "history = model.fit(X_train, y_train,\n",
    "                    validation_data=(X_test, y_test),\n",
    "                    batch_size=1024,\n",
    "                    epochs=100,\n",
    "                    callbacks=[early_stopping, checkpoint]\n",
    "                    )\n",
    "\n",
    "# plot loss during training\n",
    "plt.subplot(211)\n",
    "plt.title('Loss')\n",
    "plt.plot(history.history['loss'], label='train')\n",
    "plt.plot(history.history['val_loss'], label='val_loss')\n",
    "plt.legend()\n",
    "# plot accuracy during training\n",
    "plt.subplot(212)\n",
    "plt.title('Accuracy')\n",
    "plt.plot(history.history['accuracy'], label='train')\n",
    "plt.plot(history.history['val_accuracy'], label='validation')\n",
    "plt.legend()\n",
    "plt.show()"
   ]
  }
 ],
 "metadata": {
  "kernelspec": {
   "display_name": "Python 3",
   "language": "python",
   "name": "python3"
  },
  "language_info": {
   "codemirror_mode": {
    "name": "ipython",
    "version": 3
   },
   "file_extension": ".py",
   "mimetype": "text/x-python",
   "name": "python",
   "nbconvert_exporter": "python",
   "pygments_lexer": "ipython3",
   "version": "3.10.5"
  },
  "orig_nbformat": 4,
  "vscode": {
   "interpreter": {
    "hash": "735fd90a47749e3d8aef9bbc1d196bfbcc60e5c47746d2d32e6f03ac88616da3"
   }
  }
 },
 "nbformat": 4,
 "nbformat_minor": 2
}
